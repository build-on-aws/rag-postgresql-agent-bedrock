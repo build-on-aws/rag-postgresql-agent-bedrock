{
 "cells": [
  {
   "cell_type": "code",
   "execution_count": 12,
   "metadata": {},
   "outputs": [],
   "source": [
    "import csv\n",
    "import random\n",
    "\n",
    "# Función para generar un número aleatorio de 4 dígitos\n",
    "def generate_unique_random_id(used_ids):\n",
    "    while True:\n",
    "        new_id = str(random.randint(1000, 9999))\n",
    "        if new_id not in used_ids:\n",
    "            used_ids.add(new_id)\n",
    "        return new_id\n"
   ]
  },
  {
   "cell_type": "code",
   "execution_count": 13,
   "metadata": {},
   "outputs": [
    {
     "name": "stdout",
     "output_type": "stream",
     "text": [
      "Proceso completado. Se generaron 224 IDs únicos.\n",
      "El archivo de salida 'dataset.csv' ha sido generado.\n"
     ]
    }
   ],
   "source": [
    "# Nombre del archivo CSV de entrada\n",
    "input_file = 'dataset_2.csv'\n",
    "\n",
    "# Nombre del archivo CSV de salida\n",
    "output_file = 'dataset.csv'\n",
    "\n",
    "# Conjunto para almacenar los IDs ya utilizados\n",
    "used_ids = set()\n",
    "\n",
    "# Leer el archivo CSV de entrada y escribir en el archivo de salida\n",
    "with open(input_file, 'r', newline='') as infile, open(output_file, 'w', newline='') as outfile:\n",
    "    reader = csv.DictReader(infile)\n",
    "\n",
    "    # Obtener los nombres de las columnas\n",
    "    fieldnames = reader.fieldnames\n",
    "\n",
    "    writer = csv.DictWriter(outfile, fieldnames=fieldnames)\n",
    "\n",
    "    # Escribir el encabezado en el archivo de salida\n",
    "    writer.writeheader()\n",
    "\n",
    "    # Iterar sobre cada fila del archivo de entrada\n",
    "    for row in reader:\n",
    "    # Modificar el valor de la columna \"passenger_id\" con un ID único\n",
    "        row['passenger_id'] = generate_unique_random_id(used_ids)\n",
    "\n",
    "        # Escribir la fila modificada en el archivo de salida\n",
    "        writer.writerow(row)\n",
    "\n",
    "print(f\"Proceso completado. Se generaron {len(used_ids)} IDs únicos.\")\n",
    "print(f\"El archivo de salida '{output_file}' ha sido generado.\")"
   ]
  },
  {
   "cell_type": "code",
   "execution_count": 14,
   "metadata": {},
   "outputs": [
    {
     "name": "stdout",
     "output_type": "stream",
     "text": [
      "Proceso completado. El archivo de salida ha sido generado.\n"
     ]
    }
   ],
   "source": [
    "\n",
    "print(\"Proceso completado. El archivo de salida ha sido generado.\")"
   ]
  },
  {
   "cell_type": "code",
   "execution_count": null,
   "metadata": {},
   "outputs": [],
   "source": []
  }
 ],
 "metadata": {
  "kernelspec": {
   "display_name": "Python 3",
   "language": "python",
   "name": "python3"
  },
  "language_info": {
   "codemirror_mode": {
    "name": "ipython",
    "version": 3
   },
   "file_extension": ".py",
   "mimetype": "text/x-python",
   "name": "python",
   "nbconvert_exporter": "python",
   "pygments_lexer": "ipython3",
   "version": "3.9.6"
  }
 },
 "nbformat": 4,
 "nbformat_minor": 2
}
