{
 "cells": [
  {
   "cell_type": "code",
   "execution_count": 1,
   "metadata": {},
   "outputs": [
    {
     "name": "stderr",
     "output_type": "stream",
     "text": [
      "/Users/eliaws/Library/Python/3.9/lib/python/site-packages/urllib3/__init__.py:35: NotOpenSSLWarning: urllib3 v2 only supports OpenSSL 1.1.1+, currently the 'ssl' module is compiled with 'LibreSSL 2.8.3'. See: https://github.com/urllib3/urllib3/issues/3020\n",
      "  warnings.warn(\n"
     ]
    }
   ],
   "source": [
    "import boto3\n",
    "import json\n",
    "\n",
    "client = boto3.client('bedrock-agent-runtime')"
   ]
  },
  {
   "cell_type": "code",
   "execution_count": 2,
   "metadata": {},
   "outputs": [],
   "source": [
    "agent_id = \"FGKZK3PZXO\"\n",
    "alias_id = \"IFQ3EYFKSB\""
   ]
  },
  {
   "cell_type": "code",
   "execution_count": 16,
   "metadata": {},
   "outputs": [
    {
     "name": "stdout",
     "output_type": "stream",
     "text": [
      "{'ResponseMetadata': {'RequestId': 'cc6664bd-21e4-4c76-86a2-cd178658a607', 'HTTPStatusCode': 200, 'HTTPHeaders': {'date': 'Sat, 22 Jun 2024 02:03:25 GMT', 'content-type': 'application/json', 'transfer-encoding': 'chunked', 'connection': 'keep-alive', 'x-amzn-requestid': 'cc6664bd-21e4-4c76-86a2-cd178658a607', 'x-amz-bedrock-agent-session-id': '10', 'x-amzn-bedrock-agent-content-type': 'application/json'}, 'RetryAttempts': 0}, 'contentType': 'application/json', 'sessionId': '10', 'completion': <botocore.eventstream.EventStream object at 0x113f98040>}\n"
     ]
    }
   ],
   "source": [
    "response = client.invoke_agent(\n",
    "    agentAliasId=alias_id,\n",
    "    agentId=agent_id,\n",
    "    sessionId=\"10\",\n",
    "    inputText=\"hola que hay\",\n",
    ")\n",
    "print(response)"
   ]
  },
  {
   "cell_type": "code",
   "execution_count": 18,
   "metadata": {},
   "outputs": [],
   "source": [
    "completion = \"\"\n",
    "for event in response.get(\"completion\"):\n",
    "    chunk = event[\"chunk\"]\n",
    "    completion = completion + chunk[\"bytes\"].decode()\n"
   ]
  },
  {
   "cell_type": "code",
   "execution_count": 19,
   "metadata": {},
   "outputs": [
    {
     "data": {
      "text/plain": [
       "''"
      ]
     },
     "execution_count": 19,
     "metadata": {},
     "output_type": "execute_result"
    }
   ],
   "source": [
    "completion"
   ]
  },
  {
   "cell_type": "code",
   "execution_count": 21,
   "metadata": {},
   "outputs": [],
   "source": [
    "\n",
    "\n",
    "def invoke_agent(agent_id, agent_alias_id, session_id, prompt):\n",
    "    \"\"\"\n",
    "    Sends a prompt for the agent to process and respond to.\n",
    "\n",
    "    :param agent_id: The unique identifier of the agent to use.\n",
    "    :param agent_alias_id: The alias of the agent to use.\n",
    "    :param session_id: The unique identifier of the session. Use the same value across requests\n",
    "                        to continue the same conversation.\n",
    "    :param prompt: The prompt that you want Claude to complete.\n",
    "    :return: Inference response from the model.\n",
    "    \"\"\"\n",
    "\n",
    "    try:\n",
    "        # Note: The execution time depends on the foundation model, complexity of the agent,\n",
    "        # and the length of the prompt. In some cases, it can take up to a minute or more to\n",
    "        # generate a response.\n",
    "        response = client.invoke_agent(\n",
    "            agentId=agent_id,\n",
    "            agentAliasId=agent_alias_id,\n",
    "            sessionId=session_id,\n",
    "            inputText=prompt,\n",
    "        )\n",
    "\n",
    "        completion = \"\"\n",
    "\n",
    "        for event in response.get(\"completion\"):\n",
    "            chunk = event[\"chunk\"]\n",
    "            completion = completion + chunk[\"bytes\"].decode()\n",
    "\n",
    "    except:\n",
    "        print(f\"Couldn't invoke agent.\")\n",
    "        raise\n",
    "\n",
    "    return completion"
   ]
  },
  {
   "cell_type": "code",
   "execution_count": 22,
   "metadata": {},
   "outputs": [
    {
     "name": "stdout",
     "output_type": "stream",
     "text": [
      "Couldn't invoke agent.\n"
     ]
    },
    {
     "ename": "EventStreamError",
     "evalue": "An error occurred (resourceNotFoundException) when calling the InvokeAgent operation: Failed to retrieve resource because it doesn't exist. Retry the request with a different resource identifier.",
     "output_type": "error",
     "traceback": [
      "\u001b[0;31m---------------------------------------------------------------------------\u001b[0m",
      "\u001b[0;31mEventStreamError\u001b[0m                          Traceback (most recent call last)",
      "Cell \u001b[0;32mIn[22], line 1\u001b[0m\n\u001b[0;32m----> 1\u001b[0m completion \u001b[38;5;241m=\u001b[39m \u001b[43minvoke_agent\u001b[49m\u001b[43m(\u001b[49m\u001b[43magent_id\u001b[49m\u001b[43m,\u001b[49m\u001b[43m \u001b[49m\u001b[43malias_id\u001b[49m\u001b[43m,\u001b[49m\u001b[43m \u001b[49m\u001b[38;5;124;43m\"\u001b[39;49m\u001b[38;5;124;43m11\u001b[39;49m\u001b[38;5;124;43m\"\u001b[39;49m\u001b[43m,\u001b[49m\u001b[43m \u001b[49m\u001b[38;5;124;43m\"\u001b[39;49m\u001b[38;5;124;43mhola que tal\u001b[39;49m\u001b[38;5;124;43m\"\u001b[39;49m\u001b[43m)\u001b[49m\n",
      "Cell \u001b[0;32mIn[21], line 26\u001b[0m, in \u001b[0;36minvoke_agent\u001b[0;34m(agent_id, agent_alias_id, session_id, prompt)\u001b[0m\n\u001b[1;32m     17\u001b[0m response \u001b[38;5;241m=\u001b[39m client\u001b[38;5;241m.\u001b[39minvoke_agent(\n\u001b[1;32m     18\u001b[0m     agentId\u001b[38;5;241m=\u001b[39magent_id,\n\u001b[1;32m     19\u001b[0m     agentAliasId\u001b[38;5;241m=\u001b[39magent_alias_id,\n\u001b[1;32m     20\u001b[0m     sessionId\u001b[38;5;241m=\u001b[39msession_id,\n\u001b[1;32m     21\u001b[0m     inputText\u001b[38;5;241m=\u001b[39mprompt,\n\u001b[1;32m     22\u001b[0m )\n\u001b[1;32m     24\u001b[0m completion \u001b[38;5;241m=\u001b[39m \u001b[38;5;124m\"\u001b[39m\u001b[38;5;124m\"\u001b[39m\n\u001b[0;32m---> 26\u001b[0m \u001b[38;5;28;01mfor\u001b[39;00m event \u001b[38;5;129;01min\u001b[39;00m response\u001b[38;5;241m.\u001b[39mget(\u001b[38;5;124m\"\u001b[39m\u001b[38;5;124mcompletion\u001b[39m\u001b[38;5;124m\"\u001b[39m):\n\u001b[1;32m     27\u001b[0m     chunk \u001b[38;5;241m=\u001b[39m event[\u001b[38;5;124m\"\u001b[39m\u001b[38;5;124mchunk\u001b[39m\u001b[38;5;124m\"\u001b[39m]\n\u001b[1;32m     28\u001b[0m     completion \u001b[38;5;241m=\u001b[39m completion \u001b[38;5;241m+\u001b[39m chunk[\u001b[38;5;124m\"\u001b[39m\u001b[38;5;124mbytes\u001b[39m\u001b[38;5;124m\"\u001b[39m]\u001b[38;5;241m.\u001b[39mdecode()\n",
      "File \u001b[0;32m~/Library/Python/3.9/lib/python/site-packages/botocore/eventstream.py:603\u001b[0m, in \u001b[0;36mEventStream.__iter__\u001b[0;34m(self)\u001b[0m\n\u001b[1;32m    601\u001b[0m \u001b[38;5;28;01mdef\u001b[39;00m \u001b[38;5;21m__iter__\u001b[39m(\u001b[38;5;28mself\u001b[39m):\n\u001b[1;32m    602\u001b[0m     \u001b[38;5;28;01mfor\u001b[39;00m event \u001b[38;5;129;01min\u001b[39;00m \u001b[38;5;28mself\u001b[39m\u001b[38;5;241m.\u001b[39m_event_generator:\n\u001b[0;32m--> 603\u001b[0m         parsed_event \u001b[38;5;241m=\u001b[39m \u001b[38;5;28;43mself\u001b[39;49m\u001b[38;5;241;43m.\u001b[39;49m\u001b[43m_parse_event\u001b[49m\u001b[43m(\u001b[49m\u001b[43mevent\u001b[49m\u001b[43m)\u001b[49m\n\u001b[1;32m    604\u001b[0m         \u001b[38;5;28;01mif\u001b[39;00m parsed_event:\n\u001b[1;32m    605\u001b[0m             \u001b[38;5;28;01myield\u001b[39;00m parsed_event\n",
      "File \u001b[0;32m~/Library/Python/3.9/lib/python/site-packages/botocore/eventstream.py:619\u001b[0m, in \u001b[0;36mEventStream._parse_event\u001b[0;34m(self, event)\u001b[0m\n\u001b[1;32m    617\u001b[0m     \u001b[38;5;28;01mreturn\u001b[39;00m parsed_response\n\u001b[1;32m    618\u001b[0m \u001b[38;5;28;01melse\u001b[39;00m:\n\u001b[0;32m--> 619\u001b[0m     \u001b[38;5;28;01mraise\u001b[39;00m EventStreamError(parsed_response, \u001b[38;5;28mself\u001b[39m\u001b[38;5;241m.\u001b[39m_operation_name)\n",
      "\u001b[0;31mEventStreamError\u001b[0m: An error occurred (resourceNotFoundException) when calling the InvokeAgent operation: Failed to retrieve resource because it doesn't exist. Retry the request with a different resource identifier."
     ]
    }
   ],
   "source": [
    "completion = invoke_agent(agent_id, alias_id, \"11\", \"hola que tal\")"
   ]
  },
  {
   "cell_type": "code",
   "execution_count": 2,
   "metadata": {},
   "outputs": [
    {
     "name": "stdout",
     "output_type": "stream",
     "text": [
      "/Users/eliaws/Library/Python/3.9/lib/python/site-packages/urllib3/__init__.py:35: NotOpenSSLWarning: urllib3 v2 only supports OpenSSL 1.1.1+, currently the 'ssl' module is compiled with 'LibreSSL 2.8.3'. See: https://github.com/urllib3/urllib3/issues/3020\n",
      "  warnings.warn(\n",
      "2023-08-12 00:40:37 athena-bucket-985720040205\n",
      "2023-08-12 00:42:52 aws-athena-query-results-us-east-1-985720040205\n",
      "2023-12-09 17:35:45 aws-glue-assets-985720040205-us-east-1\n",
      "2023-08-12 00:27:42 awsfirststepsstack-inputfiles5c864080-10ckgbjg8wsqu\n",
      "2023-12-09 18:36:37 blog-latam-to-dashboard\n",
      "2023-08-12 00:15:34 cdk-hnb659fds-assets-985720040205-us-east-1\n",
      "2023-09-12 14:00:00 cdk-hnb659fds-assets-985720040205-us-west-2\n",
      "2023-09-12 13:53:53 coolimagebotstack-wwwbucketa6b42ec9-1txnonewlhimw\n",
      "2023-09-12 14:06:45 coolimagebotstack-wwwbucketa6b42ec9-s46y13oq100p\n",
      "2023-12-07 15:40:02 data-spa-bucket\n",
      "2024-01-19 13:13:53 insurance-claims-agent-us-east-1-985720040205\n",
      "2023-10-05 18:26:52 lanchainwithamazonbedroks-datasmallbucket8247f5d4-1dod0mfyk2yq6\n",
      "2023-10-05 14:01:40 lanchainwithamazonbedrokstack-databucket76dba918-1jnrasso6qlyw\n",
      "2024-05-28 14:54:15 opensearch-ddb-ingestion-backup-985720040205\n",
      "2024-04-20 12:12:13 privateassistantstack-thetranscriberbucket08071242-plmgmox5kvzl\n",
      "2023-10-25 16:03:59 qatoanagendastack-bucketagendabucketeab135fc-1tzqrtgydb5pk\n",
      "2024-05-29 13:43:13 reinventagentstack-bucketagendabucket1c1c4a36-iiafx6tdvrak\n",
      "2024-05-29 13:43:13 reinventagentstack-reinventagendabucketc26c771e-tdjnra13dc7h\n",
      "2023-08-05 20:24:06 stackset-sc-147654516002-pp-zv-inputfiles5c864080-md7526seip5y\n"
     ]
    }
   ],
   "source": [
    "!aws s3 ls"
   ]
  },
  {
   "cell_type": "code",
   "execution_count": null,
   "metadata": {},
   "outputs": [],
   "source": []
  }
 ],
 "metadata": {
  "kernelspec": {
   "display_name": "Python 3",
   "language": "python",
   "name": "python3"
  },
  "language_info": {
   "codemirror_mode": {
    "name": "ipython",
    "version": 3
   },
   "file_extension": ".py",
   "mimetype": "text/x-python",
   "name": "python",
   "nbconvert_exporter": "python",
   "pygments_lexer": "ipython3",
   "version": "3.9.6"
  }
 },
 "nbformat": 4,
 "nbformat_minor": 2
}
